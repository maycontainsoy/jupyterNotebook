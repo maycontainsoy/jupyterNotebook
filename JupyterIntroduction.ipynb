{
 "cells": [
  {
   "cell_type": "markdown",
   "metadata": {},
   "source": [
    "# Jupyter Notebook Introduction"
   ]
  },
  {
   "cell_type": "markdown",
   "metadata": {},
   "source": [
    "The first cell is a good place to put any packages or local scripts that you are importing into the notebook. Because some of the packages have long names (or functions within the packages get lengthy), it is usefuly to abbreviate the package name when importing. \n",
    "\n",
    "Ex: import numpy as np allows you to call functions with np.functionName \n",
    "\n",
    "Depending on the size of the package, importing can take some time. When you are running locally this is not an issue but I have noticed when using cloud based sevices this can add run time to the notebook. If you know specific function or subset of functions within a package, you can choose to just import those functions.\n",
    "\n",
    "Ex: from numpy import optimization\n",
    "\n",
    "For basic notebooks, numpy and matplotlib tend to be enough to work with. Later, we will have to import the quantum computing packages which do not come standard to the Anaconda Python distributions. "
   ]
  },
  {
   "cell_type": "code",
   "execution_count": 2,
   "metadata": {},
   "outputs": [],
   "source": [
    "import numpy as np\n",
    "import matplotlib.pyplot as plt"
   ]
  },
  {
   "cell_type": "markdown",
   "metadata": {},
   "source": [
    "### Trapezoidal Rule\n",
    "This program illustrates integration of the exponential function using the trapezoidal rule. This version uses error traps.\n",
    "\n",
    "Modified to Python 7/10/2019 from Fortran by CWJ SDSU 2/3/2005"
   ]
  },
  {
   "cell_type": "code",
   "execution_count": 30,
   "metadata": {},
   "outputs": [
    {
     "name": "stdout",
     "output_type": "stream",
     "text": [
      "Demonstration of trapezoidal rule\n",
      "on function exp(x) on interval (a,b)\n",
      "\n",
      "Enter start of interval,a: 1\n",
      "Enter end of interval, b: 5\n",
      "Enter # of points to be used: 200\n",
      "0.02\n",
      "Exact =  145.69487727411754  Approx =  145.64481897172612\n"
     ]
    }
   ],
   "source": [
    "print ('Demonstration of trapezoidal rule')\n",
    "print ('on function exp(x) on interval (a,b)')\n",
    "print ('')\n",
    "\n",
    "# Enter parameters\n",
    "# The input functinos assumes a string, you can force the type\n",
    "# by wrapping the input function in the desired variable type. \n",
    "a = float(input('Enter start of interval,a: '))\n",
    "b = float(input('Enter end of interval, b: '))\n",
    "\n",
    "# Check order\n",
    "# This simply swaps the values of a and b \n",
    "if (a > b):\n",
    "    a, b = b, a\n",
    "\n",
    "# Read in number of points\n",
    "# You can choose to read N as an integer like the original.\n",
    "N = int(input('Enter # of points to be used: '))\n",
    "\n",
    "# Test that int vs float does not matter mathematically in Python\n",
    "# print('Testing type casting: ', (b-a)/N)\n",
    "\n",
    "# And then cast type to be float for the compuation. Python will \n",
    "# treat the integer as a float in the division operation so the \n",
    "# type cast is not necessary (see commented print statement above)\n",
    "dx = (b-a)/float(N)\n",
    "print ('dx = ', dx)\n",
    "\n",
    "# Create an array of length N with zeros\n",
    "f = np.zeros(N)\n",
    "\n",
    "# Fill out array\n",
    "for i in range(N):\n",
    "    x = a + (i+1)*dx\n",
    "    f[i] = np.exp(x)\n",
    "\n",
    "# Initialize integral\n",
    "# \"sum\" is a forbidden word in Python\n",
    "trapSum = 0.0\n",
    "\n",
    "# Apply trapezoidal rule\n",
    "for i in range(1,N):\n",
    "    trapSum = trapSum + 0.5*dx*(f[i]+f[i-1])\n",
    "\n",
    "# Print results\n",
    "exactSum = np.exp(b) - np.exp(a)\n",
    "perError = 100*np.abs(exactSum-trapSum)/exactSum\n",
    "\n",
    "print ('Exact = ', exactSum, ' Approx = ', trapSum)"
   ]
  },
  {
   "cell_type": "markdown",
   "metadata": {},
   "source": [
    "### Comparison of trapezoidal and Simpson's rules."
   ]
  },
  {
   "cell_type": "code",
   "execution_count": 41,
   "metadata": {},
   "outputs": [],
   "source": [
    "# Function\n",
    "# Trapezoidal rule, takes an array and a step size as input, \n",
    "# returns the sum multiplied by dx\n",
    "def trapezoidal(array,h):\n",
    "    ans = 0.0\n",
    "    N = len(array)\n",
    "    ans = 0.5*(array[0] + array[N-1])\n",
    "    \n",
    "    for i in range(1,N-1):\n",
    "        ans = ans + array[i]\n",
    "\n",
    "    return ans*h"
   ]
  },
  {
   "cell_type": "code",
   "execution_count": 42,
   "metadata": {},
   "outputs": [],
   "source": [
    "# Function\n",
    "# Simpson's rule, takes an array and a step size as input,\n",
    "# returns the sum multiplied by dx/3\n",
    "def simpson(array,h):\n",
    "    N = len(array)\n",
    "    ans = 0.0\n",
    "    \n",
    "    # Error trap, check that N is even \n",
    "    if np.mod(N,2)!=0:\n",
    "        print ('Dimension of array is not even ', N)\n",
    "        return\n",
    "    \n",
    "    for i in range(1,N-1,2):\n",
    "        ans = ans + array[i-1] + 4*array[i] + array[i+1]\n",
    "    \n",
    "    return ans*h/3"
   ]
  },
  {
   "cell_type": "code",
   "execution_count": 46,
   "metadata": {},
   "outputs": [
    {
     "name": "stdout",
     "output_type": "stream",
     "text": [
      "Comparison of Trapezoidal vs. Simpsons Rule\n",
      "Trapezoidal:  0.05005830239139186\n",
      "Simpsons:     2.9936902576323803\n"
     ]
    }
   ],
   "source": [
    "trapAns = trapezoidal(f,dx)\n",
    "simpAns = simpson(f,dx)\n",
    "\n",
    "print ('Comparison of Trapezoidal vs. Simpsons Rule')\n",
    "print ('Trapezoidal: ', np.abs(trapAns - exactSum))\n",
    "print ('Simpsons:    ', np.abs(simpAns - exactSum))"
   ]
  }
 ],
 "metadata": {
  "kernelspec": {
   "display_name": "Python 3",
   "language": "python",
   "name": "python3"
  },
  "language_info": {
   "codemirror_mode": {
    "name": "ipython",
    "version": 3
   },
   "file_extension": ".py",
   "mimetype": "text/x-python",
   "name": "python",
   "nbconvert_exporter": "python",
   "pygments_lexer": "ipython3",
   "version": "3.7.0"
  }
 },
 "nbformat": 4,
 "nbformat_minor": 2
}
