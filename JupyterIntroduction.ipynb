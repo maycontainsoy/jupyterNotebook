{
 "cells": [
  {
   "cell_type": "markdown",
   "metadata": {},
   "source": [
    "# Jupyter Notebook Introduction"
   ]
  },
  {
   "cell_type": "markdown",
   "metadata": {},
   "source": [
    "_Note: Once you have opened a Jupyter session in the terminal and opened a notebook from the file directory that opened in the browser window, you must keep both the terminal and original browser window open. Closing either will close your notebook, potentially without the most recent changes._"
   ]
  },
  {
   "cell_type": "markdown",
   "metadata": {},
   "source": [
    "The first cell is a good place to put any packages or local scripts that you are importing into the notebook. Because some of the packages have long names (or functions within the packages get lengthy), it is usefuly to abbreviate the package name when importing. \n",
    "\n",
    "Ex: `import numpy as np` allows you to call functions with np.functionName \n",
    "\n",
    "Depending on the size of the package, importing can take some time. When you are running locally this is not an issue but I have noticed when using cloud based sevices this can add run time to the notebook. If you know specific function or subset of functions within a package, you can choose to just import those functions.\n",
    "\n",
    "Ex: `from numpy import optimization`\n",
    "\n",
    "For basic notebooks, numpy and matplotlib tend to be enough to work with. Later, we will have to import the quantum computing packages which do not come standard to the Anaconda Python distributions. "
   ]
  },
  {
   "cell_type": "code",
   "execution_count": 1,
   "metadata": {},
   "outputs": [],
   "source": [
    "import numpy as np\n",
    "import matplotlib.pyplot as plt"
   ]
  },
  {
   "cell_type": "markdown",
   "metadata": {},
   "source": [
    "### Trapezoidal Rule\n",
    "This program illustrates integration of the exponential function using the trapezoidal rule. This version uses error traps.\n",
    "\n",
    "Modified to Python 7/10/2019 from Fortran by CWJ SDSU 2/3/2005"
   ]
  },
  {
   "cell_type": "code",
   "execution_count": null,
   "metadata": {},
   "outputs": [],
   "source": [
    "print ('Demonstration of trapezoidal rule')\n",
    "print ('on function exp(x) on interval (a,b)')\n",
    "print ('')\n",
    "\n",
    "# Enter parameters\n",
    "# The input functinos assumes a string, you can force the type\n",
    "# by wrapping the input function in the desired variable type. \n",
    "a = float(input('Enter start of interval,a: '))\n",
    "b = float(input('Enter end of interval, b: '))\n",
    "\n",
    "# Check order\n",
    "# This simply swaps the values of a and b \n",
    "if (a > b):\n",
    "    a, b = b, a\n",
    "\n",
    "# Read in number of points\n",
    "# You can choose to read N as an integer like the original.\n",
    "N = int(input('Enter # of points to be used: '))\n",
    "\n",
    "# Test that int vs float does not matter mathematically in Python\n",
    "# print('Testing type casting: ', (b-a)/N)\n",
    "\n",
    "# And then cast type to be float for the compuation. Python will \n",
    "# treat the integer as a float in the division operation so the \n",
    "# type cast is not necessary (see commented print statement above)\n",
    "dx = (b-a)/float(N)\n",
    "print ('dx = ', dx)\n",
    "\n",
    "# Create an array of length N with zeros\n",
    "f = np.zeros(N)\n",
    "\n",
    "# Fill out array\n",
    "for i in range(N):\n",
    "    x = a + (i+1)*dx\n",
    "    f[i] = np.exp(x)\n",
    "\n",
    "# Initialize integral\n",
    "# \"sum\" is a forbidden word in Python\n",
    "trapSum = 0.0\n",
    "\n",
    "# Apply trapezoidal rule\n",
    "for i in range(1,N):\n",
    "    trapSum = trapSum + 0.5*dx*(f[i]+f[i-1])\n",
    "\n",
    "# Print results\n",
    "exactSum = np.exp(b) - np.exp(a)\n",
    "perError = 100*np.abs(exactSum-trapSum)/exactSum\n",
    "\n",
    "print ('Exact = ', exactSum, ' Approx = ', trapSum)"
   ]
  },
  {
   "cell_type": "markdown",
   "metadata": {},
   "source": [
    "### Comparison of trapezoidal and Simpson's rules.\n",
    "Using cells to store individual functions is one of the more useful tools in Jupyter notebook. When you pseudo-compile a cell containg a function, you will most likely see no output, you will just be moved to the next cell. This is because a function is not evaluated until it is called. Python will not warn you of errors in a function until you call that function. \n",
    "\n",
    "Like a Fortran subroutine, a Python function can be called with or without arguments. Passing in/out variables is not necessary, you typically only need to pass the function the variables it needs for computation. The `return` command will pass back the desired variable and it is assigned in the main routine through a `=` sign. "
   ]
  },
  {
   "cell_type": "code",
   "execution_count": null,
   "metadata": {},
   "outputs": [],
   "source": [
    "# Function\n",
    "# Trapezoidal rule, takes an array and a step size as input, \n",
    "# returns the sum multiplied by dx\n",
    "def trapezoidal(array,h):\n",
    "    ans = 0.0\n",
    "    N = len(array)\n",
    "    ans = 0.5*(array[0] + array[N-1])\n",
    "    \n",
    "    for i in range(1,N-1):\n",
    "        ans = ans + array[i]\n",
    "\n",
    "    return ans*h"
   ]
  },
  {
   "cell_type": "code",
   "execution_count": null,
   "metadata": {},
   "outputs": [],
   "source": [
    "# Function\n",
    "# Simpson's rule, takes an array and a step size as input,\n",
    "# returns the sum multiplied by dx/3\n",
    "def simpson(array,h):\n",
    "    N = len(array)\n",
    "    ans = 0.0\n",
    "    \n",
    "    # Error trap, check that N is even \n",
    "    if np.mod(N,2)!=0:\n",
    "        print ('Dimension of array is not even ', N)\n",
    "        return\n",
    "    \n",
    "    for i in range(1,N-1,2):\n",
    "        ans = ans + array[i-1] + 4*array[i] + array[i+1]\n",
    "    \n",
    "    return ans*h/3"
   ]
  },
  {
   "cell_type": "markdown",
   "metadata": {},
   "source": [
    "### Calling a function\n",
    "If you are using a function to return a single variable, the call is straight forward. The function will return whatever variable is assigned in its `return` statement to the variable in main left the `=` sign. \n",
    "\n",
    "If you have more than 1 variable you wish to return, you need to modify the `return` statement in the function. You can return a list of variables in the following way:\n",
    "<br>`return (variableA, variableB, variableC)` \n",
    "\n",
    "The number of variables returned from the subroutine must match the number of variables in main you are assigning. If we are returning the three variables listed above, the assignment in main wuold look like:\n",
    "<br>`variableA, variableB, variableC = function(x,y)`"
   ]
  },
  {
   "cell_type": "code",
   "execution_count": null,
   "metadata": {},
   "outputs": [],
   "source": [
    "trapAns = trapezoidal(f,dx)\n",
    "simpAns = simpson(f,dx)\n",
    "\n",
    "print ('Comparison of Trapezoidal vs. Simpsons Rule')\n",
    "print ('Trapezoidal: ', np.abs(trapAns - exactSum))\n",
    "print ('Simpsons:    ', np.abs(simpAns - exactSum))"
   ]
  },
  {
   "cell_type": "markdown",
   "metadata": {},
   "source": [
    "## Differentiation Examples\n",
    "From Phys 580 website."
   ]
  },
  {
   "cell_type": "code",
   "execution_count": null,
   "metadata": {},
   "outputs": [],
   "source": []
  },
  {
   "cell_type": "markdown",
   "metadata": {},
   "source": [
    "## Basic Math with Numpy\n",
    "Unlike Fortran, Python does not have a math library built into the base code. You need to import a package that contains the math routines you need. This is usually `numpy` or `scipy`, which package you choose depends on the routines you need, but in the past I have used `numpy` roughly 95% percent of the time.\n",
    "\n",
    "Once you have imported numpy with: `import numpy as np`, you can call routines within that package. The most useful resource for the math routines and descriptions is: <a href=\"https://docs.scipy.org/doc/numpy-1.13.0/index.html\">Numpy Overview</a>\n",
    "(_I realize I just told you I primarily use Numpy, why the most useful documentation source is on a Scipy site is beyond me._)\n",
    "\n",
    "Searching a given math routine, the documentation site will give you detailed input and output information, data types accepted, different variations of use, examples of use and sometimes related routines. One of the larger hurdles I had when getting started was not checking the docs and assuming I understood how the inputs and outputs should function. Because Python errors are about as useful as a gfotran error, the best trouble shotting comes from reading the docs.\n",
    "\n",
    "### Counterparts to Fortran Intrinsic Functions"
   ]
  },
  {
   "cell_type": "code",
   "execution_count": 26,
   "metadata": {},
   "outputs": [
    {
     "name": "stdout",
     "output_type": "stream",
     "text": [
      "Powers\n",
      "2^4 =  16\n",
      "2^3/2 = 2.8284271247461903\n",
      "\n",
      "Trig Functions\n",
      "Sin(x): 0.479426, \t Cos(x): 0.877583, \t Tan(x): 0.546302 \n",
      "ASin(x): 0.523599, \t ACos(x): 1.047198, \t ATan(x): 0.463648 \n"
     ]
    }
   ],
   "source": [
    "# Powers\n",
    "print ('Powers')\n",
    "x = 2**4\n",
    "print('2^4 = ', x)\n",
    "x = 2**1.5\n",
    "print('2^3/2 =', x)\n",
    "\n",
    "# Trig functions\n",
    "# Like Fortran, the default argument is in radians. \n",
    "x = 0.5\n",
    "a = np.sin(x)\n",
    "b = np.cos(x)\n",
    "c = np.tan(x)\n",
    "d = np.arcsin(x)\n",
    "e = np.arccos(x)\n",
    "f = np.arctan(x)\n",
    "\n",
    "print('')\n",
    "print('Trig Functions')\n",
    "print('Sin(x): %f, \\t Cos(x): %f, \\t Tan(x): %f ' % (a,b,c))\n",
    "print('ASin(x): %f, \\t ACos(x): %f, \\t ATan(x): %f ' % (d,e,f))"
   ]
  },
  {
   "cell_type": "markdown",
   "metadata": {},
   "source": [
    "In the cell above, I have used three new things in my print statement. \n",
    "- I have included place holders for the values I want to print to screen.\n",
    "- I have given the print statement a list of values to print. \n",
    "- I have included a tab character to make the output neater.\n",
    "\n",
    "Most of the print functionality is the same in Python. Tab is still a `\\t` character, a floating point number place holder is a `%f` and so on. If you want to include multiple place holders in a `print` statement, you must also include a list of values. The number of place holders and values must be the same. The values are passed as a list at the end of the statement, `% (a,b,c)` and are placed in the order they appear."
   ]
  },
  {
   "cell_type": "code",
   "execution_count": 27,
   "metadata": {},
   "outputs": [
    {
     "name": "stdout",
     "output_type": "stream",
     "text": [
      "Logs and Exponents\n",
      "Log(x): 1.609438 \t Log10(x): 0.698970 \t Exp(x): 148.413159 \n"
     ]
    }
   ],
   "source": [
    "# Log Functions\n",
    "# Again, like Fortran, the base is e\n",
    "x = 5\n",
    "a = np.log(x)\n",
    "b = np.log10(x)\n",
    "c = np.exp(5)\n",
    "\n",
    "print('Logs and Exponents')\n",
    "print('Log(x): %f \\t Log10(x): %f \\t Exp(x): %f ' % (a,b,c))"
   ]
  },
  {
   "cell_type": "code",
   "execution_count": 31,
   "metadata": {},
   "outputs": [
    {
     "name": "stdout",
     "output_type": "stream",
     "text": [
      "Other math functions\n",
      "Sqrt(x): 5.656854 \t Abs(-x): 32.000000 \t  \n",
      "Float(x): 32.000000 \t Int(c): 32.000000\n"
     ]
    }
   ],
   "source": [
    "# Other\n",
    "x = 32\n",
    "a = np.sqrt(x)\n",
    "b = np.abs(-x)\n",
    "c = float(x)\n",
    "d = int(c)\n",
    "\n",
    "print ('Other math functions')\n",
    "print ('Sqrt(x): %f \\t Abs(-x): %f \\t  \\nFloat(x): %f \\t Int(c): %f' % (a,b,c,d))"
   ]
  },
  {
   "cell_type": "markdown",
   "metadata": {},
   "source": [
    "### Logical Operators\n",
    "Python logical operators and their Fortran equivalent. "
   ]
  },
  {
   "cell_type": "code",
   "execution_count": 63,
   "metadata": {},
   "outputs": [
    {
     "name": "stdout",
     "output_type": "stream",
     "text": [
      "Basic Evaluations\n",
      "x .LT. z ? True\n",
      "x .LT. y ? False\n",
      "x .EQ. y ? True\n",
      "x .LE. y ? True\n",
      "\n",
      ".AND. .OR. .NOT. Evaluations\n",
      "x .EQ. y .AND. x<z        ? True\n",
      "x .NOT. z .AND. y .NOT. z ? True\n",
      "x .GT. y .OR. x .LT. z    ? True\n"
     ]
    }
   ],
   "source": [
    "x = 2\n",
    "y = 2\n",
    "z = 3\n",
    "\n",
    "print('Basic Evaluations')\n",
    "print('x .LT. z ?', x<z)\n",
    "print('x .LT. y ?', x<y)\n",
    "print('x .EQ. y ?', x==y)\n",
    "print('x .LE. y ?', x<=y)\n",
    "\n",
    "print('')\n",
    "print('.AND. .OR. .NOT. Evaluations')\n",
    "print('x .EQ. y .AND. x<z        ?', (x==y and x<z))\n",
    "print('x .NOT. z .AND. y .NOT. z ?', (x!=z and y!=z))\n",
    "print('x .GT. y .OR. x .LT. z    ?', (x>y or x<z))"
   ]
  },
  {
   "cell_type": "code",
   "execution_count": null,
   "metadata": {},
   "outputs": [],
   "source": []
  }
 ],
 "metadata": {
  "kernelspec": {
   "display_name": "Python 3",
   "language": "python",
   "name": "python3"
  },
  "language_info": {
   "codemirror_mode": {
    "name": "ipython",
    "version": 3
   },
   "file_extension": ".py",
   "mimetype": "text/x-python",
   "name": "python",
   "nbconvert_exporter": "python",
   "pygments_lexer": "ipython3",
   "version": "3.7.0"
  }
 },
 "nbformat": 4,
 "nbformat_minor": 2
}
